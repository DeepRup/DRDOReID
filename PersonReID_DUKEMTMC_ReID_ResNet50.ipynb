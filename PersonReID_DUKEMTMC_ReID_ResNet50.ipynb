{
  "nbformat": 4,
  "nbformat_minor": 0,
  "metadata": {
    "colab": {
      "name": "PersonReID_DUKEMTMC-ReID_ResNet50.ipynb",
      "provenance": [],
      "collapsed_sections": [],
      "toc_visible": true,
      "authorship_tag": "ABX9TyOrsIpQ+DEUhgUHFb44F6eR",
      "include_colab_link": true
    },
    "kernelspec": {
      "name": "python3",
      "display_name": "Python 3"
    },
    "accelerator": "GPU"
  },
  "cells": [
    {
      "cell_type": "markdown",
      "metadata": {
        "id": "view-in-github",
        "colab_type": "text"
      },
      "source": [
        "<a href=\"https://colab.research.google.com/github/DeepRup/DRDOReID/blob/master/PersonReID_DUKEMTMC_ReID_ResNet50.ipynb\" target=\"_parent\"><img src=\"https://colab.research.google.com/assets/colab-badge.svg\" alt=\"Open In Colab\"/></a>"
      ]
    },
    {
      "cell_type": "code",
      "metadata": {
        "id": "woWbo9btUQW1"
      },
      "source": [
        "import re\n",
        "import os\n",
        "import random\n",
        "import keras\n",
        "import numpy as np \n",
        "import pandas as pd\n",
        "import tensorflow as tf\n",
        "import seaborn as sns\n",
        "import matplotlib.pyplot as plt\n",
        "from keras.layers import *\n",
        "from keras.models import *\n",
        "from keras.preprocessing.image import ImageDataGenerator"
      ],
      "execution_count": null,
      "outputs": []
    },
    {
      "cell_type": "code",
      "metadata": {
        "id": "b6j012uSnvkq",
        "outputId": "cf7363a7-0410-4b62-a3b1-2bbdd204b27b",
        "colab": {
          "base_uri": "https://localhost:8080/",
          "height": 34
        }
      },
      "source": [
        "!unzip DukeMTMC-reID.zip"
      ],
      "execution_count": null,
      "outputs": [
        {
          "output_type": "stream",
          "text": [
            "unzip:  cannot find or open DukeMTMC-reID.zip, DukeMTMC-reID.zip.zip or DukeMTMC-reID.zip.ZIP.\n"
          ],
          "name": "stdout"
        }
      ]
    },
    {
      "cell_type": "code",
      "metadata": {
        "id": "9-BUDRjGoBUR",
        "outputId": "c77c70c6-279b-44e5-e1a5-3e90e1d36d67",
        "colab": {
          "base_uri": "https://localhost:8080/",
          "height": 229
        }
      },
      "source": [
        "train_list=os.listdir(\"/content/DukeMTMC-reID/bounding_box_train\")\n",
        "\n",
        "l=len(train_list)\n",
        "print(l)\n",
        "\n",
        "traindf=pd.DataFrame(train_list)\n",
        "\n",
        "train_label=[]\n",
        "for n in train_list:\n",
        "  arr=re.split(r'_',n)\n",
        "  train_label.append(arr[0])\n",
        "\n",
        "traindf['PersonID']=train_label\n",
        "traindf.columns=['ImageName','PersonID']\n",
        "\n",
        "print(traindf)"
      ],
      "execution_count": null,
      "outputs": [
        {
          "output_type": "error",
          "ename": "FileNotFoundError",
          "evalue": "ignored",
          "traceback": [
            "\u001b[0;31m---------------------------------------------------------------------------\u001b[0m",
            "\u001b[0;31mFileNotFoundError\u001b[0m                         Traceback (most recent call last)",
            "\u001b[0;32m<ipython-input-13-07a91d202f9e>\u001b[0m in \u001b[0;36m<module>\u001b[0;34m()\u001b[0m\n\u001b[0;32m----> 1\u001b[0;31m \u001b[0mtrain_list\u001b[0m\u001b[0;34m=\u001b[0m\u001b[0mos\u001b[0m\u001b[0;34m.\u001b[0m\u001b[0mlistdir\u001b[0m\u001b[0;34m(\u001b[0m\u001b[0;34m\"/content/DukeMTMC-reID/bounding_box_train\"\u001b[0m\u001b[0;34m)\u001b[0m\u001b[0;34m\u001b[0m\u001b[0;34m\u001b[0m\u001b[0m\n\u001b[0m\u001b[1;32m      2\u001b[0m \u001b[0;34m\u001b[0m\u001b[0m\n\u001b[1;32m      3\u001b[0m \u001b[0ml\u001b[0m\u001b[0;34m=\u001b[0m\u001b[0mlen\u001b[0m\u001b[0;34m(\u001b[0m\u001b[0mtrain_list\u001b[0m\u001b[0;34m)\u001b[0m\u001b[0;34m\u001b[0m\u001b[0;34m\u001b[0m\u001b[0m\n\u001b[1;32m      4\u001b[0m \u001b[0mprint\u001b[0m\u001b[0;34m(\u001b[0m\u001b[0ml\u001b[0m\u001b[0;34m)\u001b[0m\u001b[0;34m\u001b[0m\u001b[0;34m\u001b[0m\u001b[0m\n\u001b[1;32m      5\u001b[0m \u001b[0;34m\u001b[0m\u001b[0m\n",
            "\u001b[0;31mFileNotFoundError\u001b[0m: [Errno 2] No such file or directory: '/content/DukeMTMC-reID/bounding_box_train'"
          ]
        }
      ]
    },
    {
      "cell_type": "code",
      "metadata": {
        "id": "nguJ0muHs-0u"
      },
      "source": [
        "val_list=os.listdir(\"/content/DukeMTMC-reID/query\")\n",
        "\n",
        "l=len(val_list)\n",
        "print(l)\n",
        "\n",
        "valdf=pd.DataFrame(val_list)\n",
        "val_label=[]\n",
        "\n",
        "for n in val_list:\n",
        "  arr=re.split(r'_',n)\n",
        "  val_label.append(arr[0])\n",
        "\n",
        "valdf['PersonID']=val_label\n",
        "valdf.columns=['ImageName','PersonID']\n",
        "print(valdf)"
      ],
      "execution_count": null,
      "outputs": []
    },
    {
      "cell_type": "code",
      "metadata": {
        "id": "yHyxx1nm3lhK"
      },
      "source": [
        "base_model=tf.keras.applications.ResNet50(input_shape=(224,224,3),\n",
        "                                          weights='imagenet',\n",
        "                                          include_top=False)\n",
        "base_model.summary()"
      ],
      "execution_count": null,
      "outputs": []
    },
    {
      "cell_type": "code",
      "metadata": {
        "id": "ZhsnYkdj4MuL"
      },
      "source": [
        " for i, layer in enumerate(base_model.layers):\n",
        "   print(i,layer.name)"
      ],
      "execution_count": null,
      "outputs": []
    },
    {
      "cell_type": "code",
      "metadata": {
        "id": "_WpvIlyk6D0o"
      },
      "source": [
        "x=base_model.output\n",
        "x=GlobalAveragePooling2D()(x)\n",
        "x=Flatten()(x)\n",
        "x=Dense(1024,activation='relu')(x)\n",
        "x=Dense(256,kernel_regularizer=tf.keras.regularizers.L2(0.001),\n",
        "        activation='relu')(x)\n",
        "x=Dense(1024,activation='relu')(x)\n",
        "preds=Dense(702,activation='softmax')(x)"
      ],
      "execution_count": null,
      "outputs": []
    },
    {
      "cell_type": "code",
      "metadata": {
        "id": "yTbWEJ6d8csW"
      },
      "source": [
        "model=Model(inputs=base_model.input,outputs=preds)\n",
        "model.summary()"
      ],
      "execution_count": null,
      "outputs": []
    },
    {
      "cell_type": "code",
      "metadata": {
        "id": "dz0F-Avba8EV"
      },
      "source": [
        "for i,layer in enumerate(model.layers):\n",
        "  print(i,layer.name)"
      ],
      "execution_count": null,
      "outputs": []
    },
    {
      "cell_type": "code",
      "metadata": {
        "id": "bTvwHI_5bP4D"
      },
      "source": [
        "train_datagen=ImageDataGenerator(preprocessing_function=\n",
        "                                 tf.keras.applications.resnet50\n",
        "                                 .preprocess_input)\n",
        "val_datagen=ImageDataGenerator(preprocessing_function=\n",
        "                               tf.keras.applications.resnet50\n",
        "                               .preprocess_input)"
      ],
      "execution_count": null,
      "outputs": []
    },
    {
      "cell_type": "code",
      "metadata": {
        "id": "qQ5see0Odpe2"
      },
      "source": [
        "train_generator=train_datagen.flow_from_dataframe(traindf,\n",
        "                                                 '/content/DukeMTMC-reID/bounding_box_train',\n",
        "                                                  x_col='ImageName',\n",
        "                                                  y_col='PersonID',\n",
        "                                                  target_size=(224,224),\n",
        "                                                  color_mode='rgb',\n",
        "                                                  batch_size=128,\n",
        "                                                  class_mode='categorical')\n",
        "\n",
        "val_generator=val_datagen.flow_from_dataframe(valdf,\n",
        "                                              '/content/DukeMTMC-reID/query',\n",
        "                                              x_col='ImageName',\n",
        "                                              y_col='PersonID',\n",
        "                                              target_size=(224,224),\n",
        "                                              color_mode='rgb',\n",
        "                                              batch_size=128,\n",
        "                                              class_mode='categorical')"
      ],
      "execution_count": null,
      "outputs": []
    },
    {
      "cell_type": "code",
      "metadata": {
        "id": "o3ZoIkn5hDo2"
      },
      "source": [
        "model.compile(optimizer='Adam',\n",
        "              loss='categorical_crossentropy',\n",
        "              metrics=['accuracy'])\n"
      ],
      "execution_count": null,
      "outputs": []
    },
    {
      "cell_type": "code",
      "metadata": {
        "id": "hQgHI79BhnTO"
      },
      "source": [
        "history=model.fit(train_generator,epochs=5,validation_data=val_generator)"
      ],
      "execution_count": null,
      "outputs": []
    },
    {
      "cell_type": "code",
      "metadata": {
        "id": "9SGln_wjiS_T"
      },
      "source": [
        ""
      ],
      "execution_count": null,
      "outputs": []
    }
  ]
}